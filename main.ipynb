﻿{
 "cells": [
  {
   "cell_type": "code",
   "execution_count": null,
   "id": "initial_id",
   "metadata": {
    "collapsed": true
   },
   "outputs": [],
   "source": [
    "from fastapi import FastAPI, HTTPException\n",
    "from fastapi.middleware.cors import CORSMiddleware\n",
    "from pydantic import BaseModel\n",
    "from typing import List, Optional\n",
    "import uvicorn\n",
    "\n",
    "# Definición de modelos de datos\n",
    "class ChatRequest(BaseModel):\n",
    "    message: str\n",
    "    user_id: Optional[str] = None\n",
    "    session_id: Optional[str] = None\n",
    "\n",
    "class ChatResponse(BaseModel):\n",
    "    response: str\n",
    "    confidence: float = 1.0\n",
    "\n",
    "# Inicializar la aplicación FastAPI\n",
    "app = FastAPI(\n",
    "    title=\"API de Chatbot\",\n",
    "    description=\"Una API simple para procesar mensajes de chat\",\n",
    "    version=\"0.1.0\"\n",
    ")\n",
    "\n",
    "# Configurar CORS\n",
    "app.add_middleware(\n",
    "    CORSMiddleware,\n",
    "    allow_origins=[\"*\"],  # Permite todas las origenes en desarrollo\n",
    "    allow_credentials=True,\n",
    "    allow_methods=[\"*\"],\n",
    "    allow_headers=[\"*\"],\n",
    ")\n",
    "\n",
    "# Rutas de la API\n",
    "@app.post(\"/chat\", response_model=ChatResponse)\n",
    "async def chat_endpoint(request: ChatRequest):\n",
    "    try:\n",
    "        # Simulación de procesamiento de chatbot\n",
    "        # El procesamiento real se implementará más tarde\n",
    "        user_message = request.message\n",
    "\n",
    "        # Respuesta simulada\n",
    "        bot_response = f\"Has enviado: '{user_message}'. Esta es una respuesta simulada del chatbot.\"\n",
    "\n",
    "        return ChatResponse(\n",
    "            response=bot_response,\n",
    "            confidence=0.95\n",
    "        )\n",
    "    except Exception as e:\n",
    "        raise HTTPException(status_code=500, detail=f\"Error en el procesamiento del chat: {str(e)}\")\n",
    "\n",
    "@app.get(\"/\")\n",
    "async def root():\n",
    "    return {\"mensaje\": \"API de Chatbot. Usa el endpoint /chat para interactuar.\"}\n",
    "\n",
    "# Ejecutar la aplicación con uvicorn\n",
    "if __name__ == \"__main__\":\n",
    "    uvicorn.run(\"main:app\", host=\"0.0.0.0\", port=8000, reload=True)"
   ]
  },
  {
   "metadata": {
    "ExecuteTime": {
     "end_time": "2025-03-27T16:55:25.648151Z",
     "start_time": "2025-03-27T16:55:25.163946Z"
    }
   },
   "cell_type": "code",
   "source": "from fastapi.staticfiles import StaticFiles",
   "id": "95d6c8ac100bffd1",
   "outputs": [],
   "execution_count": 1
  }
 ],
 "metadata": {
  "kernelspec": {
   "display_name": "Python 3",
   "language": "python",
   "name": "python3"
  },
  "language_info": {
   "codemirror_mode": {
    "name": "ipython",
    "version": 2
   },
   "file_extension": ".py",
   "mimetype": "text/x-python",
   "name": "python",
   "nbconvert_exporter": "python",
   "pygments_lexer": "ipython2",
   "version": "2.7.6"
  }
 },
 "nbformat": 4,
 "nbformat_minor": 5
}
